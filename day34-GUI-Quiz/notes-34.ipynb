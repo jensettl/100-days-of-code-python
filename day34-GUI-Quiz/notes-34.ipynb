{
 "cells": [
  {
   "cell_type": "markdown",
   "metadata": {},
   "source": [
    "# Day 34 - GUI Quiz with Tkinter"
   ]
  },
  {
   "cell_type": "markdown",
   "metadata": {},
   "source": [
    "### Day 34 Goals:\n",
    "\n",
    "1. Use the Open Trivia API to fetch questions and answers\n",
    "2. Create a GUI using Tkinter\n",
    "3. Update the quiz app from day17 that asks the user 10 questions and keeps track of their score\n"
   ]
  },
  {
   "cell_type": "markdown",
   "metadata": {},
   "source": [
    "### Challenge 1 - Fetching Data from the Open Trivia API\n",
    "1. Modify ``data.py`` \n",
    "2. Make a get() request to the Open Trivia API to fetch questions\n",
    "3. Parse the JSON response and replace the value of question_data"
   ]
  },
  {
   "cell_type": "markdown",
   "metadata": {},
   "source": [
    "### Challenge 2 - HTML Entities\n",
    "\n",
    "The Open Trivia API returns the questions and answers with HTML entities. For example, the question \"What is the capital of France?\" is returned as \"What is the capital of &quot;France&quot;?\".\n",
    "\n",
    "To convert the HTML Entities to the correct characters, you can use the ``unescape()`` function from the ``html`` library.\n",
    "\n",
    "```python\n",
    "import html\n",
    "question = html.unescape(\"What is the capital of &quot;France&quot;?\")\n",
    "```\n"
   ]
  },
  {
   "cell_type": "markdown",
   "metadata": {},
   "source": [
    "### Challenge 3 - Creating the GUI\n",
    "\n",
    "Use the ``ui.py`` file to create the GUI for the quiz app by creating a class with Tkinter widgets.\n",
    "\n",
    "1. Create a window\n",
    "2. Add a canvas\n",
    "3. Add a background image to the canvas\n",
    "4. Add a label to display the question text\n",
    "5. Add buttons for the answer options\n",
    "6. Add a score label to display the current score\n",
    "7. Add a progress bar to display the current question number\n"
   ]
  },
  {
   "cell_type": "markdown",
   "metadata": {},
   "source": [
    "### Challenge 4 - Displaying the Questions\n",
    "\n",
    "So far the ``QuizBrain`` class provides an input() function to display the questions and check the answers. Modify the ``QuizBrain`` class to provide a ``next_question()`` function that returns the next question and answer options."
   ]
  },
  {
   "cell_type": "markdown",
   "metadata": {},
   "source": [
    "### Challenge 5 - Checking the Answers\n",
    "\n",
    "Modify the code so clicking on an answer button calls the ``check_answer()`` function and displays the next question.\n",
    "\n",
    "Solution: Add a command to the button widget that calls the ``check_answer()`` function and passes the button text as an argument.\n",
    "\n",
    "```python\n",
    "true_button = Button(text=\"True\", command=check_answer)\n",
    "```\n"
   ]
  },
  {
   "cell_type": "markdown",
   "metadata": {},
   "source": [
    "### Challenge 6 - User Feedback, Keep Score and Bug Fix\n",
    "\n",
    "1. Change the color of the canvas to green if the user's answer is correct and red if the user's answer is wrong.\n",
    "2. Keep track of the user's score and display it in the score label.\n",
    "3. Fix the bug that occurs when the user clicks on an answer button after the last question has been displayed. The app should display a message saying \"You've reached the end of the quiz\" and disable the answer buttons.\n",
    "\n",
    "Solution: Use the ``config()`` function to change the color of the canvas and the ``config()`` function to disable the answer buttons.\n",
    "\n",
    "```python\n",
    "canvas.config(bg=\"green\")\n",
    "true_button.config(state=\"disabled\")\n",
    "```"
   ]
  },
  {
   "cell_type": "markdown",
   "metadata": {},
   "source": []
  }
 ],
 "metadata": {
  "language_info": {
   "name": "python"
  }
 },
 "nbformat": 4,
 "nbformat_minor": 2
}
