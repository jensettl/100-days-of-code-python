{
 "cells": [
  {
   "cell_type": "markdown",
   "metadata": {},
   "source": [
    "# Day 36 - Stock Trading News Alert"
   ]
  },
  {
   "cell_type": "markdown",
   "metadata": {},
   "source": [
    "### Instructions\n",
    "\n",
    "In this project, you will create a Python application that will notify you when a stock has reached a certain price and print relevant news articles.\n",
    "\n",
    "\n",
    "STEP 1: Use https://www.alphavantage.co\n",
    "When STOCK price increase/decreases by 5% between yesterday and the day before yesterday then print(\"Get News\").\n",
    "\n",
    "STEP 2: Use https://newsapi.org\n",
    "Instead of printing (\"Get News\"), actually get the first 3 news pieces for the COMPANY_NAME. \n",
    "\n",
    "STEP 3: Use https://www.twilio.com\n",
    "Send a seperate message with the percentage change and each article's title and description to your phone number. "
   ]
  },
  {
   "cell_type": "markdown",
   "metadata": {},
   "source": [
    "### How to use this program:\n",
    "\n",
    "1. Change the STOCK and COMPANY_NAME to the stock you want to track.\n",
    "2. Run all cells\n",
    "3. Look at the output on the bottom of the page."
   ]
  },
  {
   "cell_type": "code",
   "execution_count": 10,
   "metadata": {},
   "outputs": [],
   "source": [
    "import requests\n",
    "import os"
   ]
  },
  {
   "cell_type": "code",
   "execution_count": 19,
   "metadata": {},
   "outputs": [],
   "source": [
    "stockmarket_api_key = os.getenv(\"STOCK_MARKET_API\")  # https://www.alphavantage.co/\n",
    "news_api_key = os.getenv(\"NEWS_API_KEY\")  # https://newsapi.org/\n",
    "\n",
    "\n",
    "# Stocks List: https://www.slickcharts.com/sp500\n",
    "STOCK = \"MSFT\"\n",
    "COMPANY_NAME = \"Microsoft Corp.\""
   ]
  },
  {
   "cell_type": "markdown",
   "metadata": {},
   "source": [
    "### Fetch StockMarket Data from Alpha Vantage API \n",
    "\n",
    "Alpha Vantage API is used to fetch the stock market data. The API is free to use and does not require any authentication. The API provides the data in JSON format. The API provides the data for the following fields: Open, High, Low, Close, Volume. The API provides the data for the following stock market indices: NSE, BSE, NASDAQ, NYSE, S&P 500, Dow Jones, FTSE 100, DAX, CAC 40, Nikkei 225, Hang Seng.\n",
    "\n",
    "Alpha Vantage API Documentation: https://www.alphavantage.co/documentation/"
   ]
  },
  {
   "cell_type": "code",
   "execution_count": 12,
   "metadata": {},
   "outputs": [
    {
     "name": "stdout",
     "output_type": "stream",
     "text": [
      "{'Meta Data': {'1. Information': 'Daily Prices (open, high, low, close) and Volumes', '2. Symbol': 'MSFT', '3. Last Refreshed': '2023-11-08', '4. Output Size': 'Compact', '5. Time Zone': 'US/Eastern'}, 'Time Series (Daily)': {'2023-11-08': {'1. open': '361.6800', '2. high': '363.8700', '3. low': '360.5500', '4. close': '363.2000', '5. volume': '26767828'}, '2023-11-07': {'1. open': '359.4000', '2. high': '362.4600', '3. low': '357.6300', '4. close': '360.5300', '5. volume': '25833931'}, '2023-11-06': {'1. open': '353.4500', '2. high': '357.5400', '3. low': '353.3500', '4. close': '356.5300', '5. volume': '23828301'}, '2023-11-03': {'1. open': '349.6300', '2. high': '354.3900', '3. low': '347.3300', '4. close': '352.8000', '5. volume': '23637673'}, '2023-11-02': {'1. open': '347.2400', '2. high': '348.8300', '3. low': '344.7700', '4. close': '348.3200', '5. volume': '24348072'}, '2023-11-01': {'1. open': '339.7900', '2. high': '347.4200', '3. low': '339.6500', '4. close': '346.0700', '5. volume': '28158819'}, '2023-10-31': {'1. open': '338.8500', '2. high': '339.0000', '3. low': '334.6900', '4. close': '338.1100', '5. volume': '20265282'}, '2023-10-30': {'1. open': '333.4100', '2. high': '339.4500', '3. low': '331.8300', '4. close': '337.3100', '5. volume': '22828082'}, '2023-10-27': {'1. open': '330.4250', '2. high': '336.7200', '3. low': '328.4007', '4. close': '329.8100', '5. volume': '29856522'}, '2023-10-26': {'1. open': '340.5400', '2. high': '341.6300', '3. low': '326.9400', '4. close': '327.8900', '5. volume': '37828543'}, '2023-10-25': {'1. open': '345.0200', '2. high': '346.2000', '3. low': '337.6200', '4. close': '340.6700', '5. volume': '55053828'}, '2023-10-24': {'1. open': '331.3000', '2. high': '331.8400', '3. low': '327.6000', '4. close': '330.5300', '5. volume': '31153571'}, '2023-10-23': {'1. open': '325.4700', '2. high': '332.7250', '3. low': '324.3900', '4. close': '329.3200', '5. volume': '24374748'}, '2023-10-20': {'1. open': '331.7200', '2. high': '331.9200', '3. low': '325.4500', '4. close': '326.6700', '5. volume': '25027715'}, '2023-10-19': {'1. open': '332.1500', '2. high': '336.8800', '3. low': '330.9100', '4. close': '331.3200', '5. volume': '25052071'}, '2023-10-18': {'1. open': '332.4900', '2. high': '335.5900', '3. low': '328.3000', '4. close': '330.1100', '5. volume': '23153602'}, '2023-10-17': {'1. open': '329.5900', '2. high': '333.4600', '3. low': '327.4100', '4. close': '332.0600', '5. volume': '18338523'}, '2023-10-16': {'1. open': '331.0500', '2. high': '336.1400', '3. low': '330.6000', '4. close': '332.6400', '5. volume': '22158048'}, '2023-10-13': {'1. open': '332.3800', '2. high': '333.8300', '3. low': '326.3600', '4. close': '327.7300', '5. volume': '21085695'}, '2023-10-12': {'1. open': '330.5650', '2. high': '333.6299', '3. low': '328.7200', '4. close': '331.1600', '5. volume': '19313098'}, '2023-10-11': {'1. open': '331.2100', '2. high': '332.8200', '3. low': '329.1400', '4. close': '332.4200', '5. volume': '20063246'}, '2023-10-10': {'1. open': '330.9600', '2. high': '331.1000', '3. low': '327.6700', '4. close': '328.3900', '5. volume': '20557094'}, '2023-10-09': {'1. open': '324.7500', '2. high': '330.3000', '3. low': '323.1800', '4. close': '329.8200', '5. volume': '19891180'}, '2023-10-06': {'1. open': '316.5500', '2. high': '329.1900', '3. low': '316.3000', '4. close': '327.2600', '5. volume': '25673630'}, '2023-10-05': {'1. open': '319.0900', '2. high': '319.9800', '3. low': '314.9000', '4. close': '319.3600', '5. volume': '16965629'}, '2023-10-04': {'1. open': '314.0300', '2. high': '320.0400', '3. low': '314.0000', '4. close': '318.9550', '5. volume': '20720144'}, '2023-10-03': {'1. open': '320.8300', '2. high': '321.3900', '3. low': '311.2150', '4. close': '313.3900', '5. volume': '21033492'}, '2023-10-02': {'1. open': '316.2800', '2. high': '321.8880', '3. low': '315.1800', '4. close': '321.8000', '5. volume': '20570006'}, '2023-09-29': {'1. open': '317.7500', '2. high': '319.4700', '3. low': '314.9800', '4. close': '315.7500', '5. volume': '24147298'}, '2023-09-28': {'1. open': '310.9900', '2. high': '315.4800', '3. low': '309.4500', '4. close': '313.6400', '5. volume': '19683564'}, '2023-09-27': {'1. open': '312.3000', '2. high': '314.2990', '3. low': '309.6900', '4. close': '312.7900', '5. volume': '19410082'}, '2023-09-26': {'1. open': '315.1300', '2. high': '315.8800', '3. low': '310.0200', '4. close': '312.1400', '5. volume': '26297573'}, '2023-09-25': {'1. open': '316.5900', '2. high': '317.6700', '3. low': '315.0000', '4. close': '317.5400', '5. volume': '17835964'}, '2023-09-22': {'1. open': '321.3200', '2. high': '321.4500', '3. low': '316.1500', '4. close': '317.0100', '5. volume': '21447887'}, '2023-09-21': {'1. open': '319.2600', '2. high': '325.3499', '3. low': '315.0000', '4. close': '319.5300', '5. volume': '35560362'}, '2023-09-20': {'1. open': '329.5100', '2. high': '329.5900', '3. low': '320.5100', '4. close': '320.7700', '5. volume': '21436525'}, '2023-09-19': {'1. open': '326.1700', '2. high': '329.3900', '3. low': '324.5100', '4. close': '328.6500', '5. volume': '16514487'}, '2023-09-18': {'1. open': '327.8000', '2. high': '330.4000', '3. low': '326.3600', '4. close': '329.0600', '5. volume': '16834208'}, '2023-09-15': {'1. open': '336.9200', '2. high': '337.3975', '3. low': '329.6500', '4. close': '330.2200', '5. volume': '37679792'}, '2023-09-14': {'1. open': '339.1480', '2. high': '340.8600', '3. low': '336.5700', '4. close': '338.7000', '5. volume': '20267048'}, '2023-09-13': {'1. open': '331.3100', '2. high': '336.8500', '3. low': '331.1700', '4. close': '336.0600', '5. volume': '16544412'}, '2023-09-12': {'1. open': '335.8150', '2. high': '336.7900', '3. low': '331.4800', '4. close': '331.7700', '5. volume': '17565482'}, '2023-09-11': {'1. open': '337.2400', '2. high': '338.4200', '3. low': '335.4300', '4. close': '337.9400', '5. volume': '16583324'}, '2023-09-08': {'1. open': '330.0900', '2. high': '336.1600', '3. low': '329.4600', '4. close': '334.2700', '5. volume': '19548165'}, '2023-09-07': {'1. open': '331.2900', '2. high': '333.0800', '3. low': '329.0300', '4. close': '329.9100', '5. volume': '18380995'}, '2023-09-06': {'1. open': '333.3800', '2. high': '334.4600', '3. low': '330.1800', '4. close': '332.8800', '5. volume': '17535773'}, '2023-09-05': {'1. open': '329.0000', '2. high': '334.8500', '3. low': '328.6600', '4. close': '333.5500', '5. volume': '18553859'}, '2023-09-01': {'1. open': '331.3100', '2. high': '331.9900', '3. low': '326.7800', '4. close': '328.6600', '5. volume': '14942024'}, '2023-08-31': {'1. open': '329.2000', '2. high': '330.9099', '3. low': '326.7800', '4. close': '327.7600', '5. volume': '26410954'}, '2023-08-30': {'1. open': '328.6700', '2. high': '329.8100', '3. low': '326.4450', '4. close': '328.7900', '5. volume': '15222110'}, '2023-08-29': {'1. open': '321.8800', '2. high': '328.9835', '3. low': '321.8800', '4. close': '328.4100', '5. volume': '19284590'}, '2023-08-28': {'1. open': '325.6600', '2. high': '326.1500', '3. low': '321.7220', '4. close': '323.7000', '5. volume': '14808482'}, '2023-08-25': {'1. open': '321.4700', '2. high': '325.3600', '3. low': '318.8001', '4. close': '322.9800', '5. volume': '21684104'}, '2023-08-24': {'1. open': '332.8500', '2. high': '332.9800', '3. low': '319.9600', '4. close': '319.9700', '5. volume': '23281434'}, '2023-08-23': {'1. open': '323.8200', '2. high': '329.2000', '3. low': '323.4600', '4. close': '327.0000', '5. volume': '21166382'}, '2023-08-22': {'1. open': '325.5000', '2. high': '326.0750', '3. low': '321.4600', '4. close': '322.4600', '5. volume': '16102024'}, '2023-08-21': {'1. open': '317.9300', '2. high': '322.7700', '3. low': '317.0400', '4. close': '321.8800', '5. volume': '24039956'}, '2023-08-18': {'1. open': '314.4900', '2. high': '318.3800', '3. low': '311.5508', '4. close': '316.4800', '5. volume': '24755012'}, '2023-08-17': {'1. open': '320.5400', '2. high': '321.8700', '3. low': '316.2100', '4. close': '316.8800', '5. volume': '21257161'}, '2023-08-16': {'1. open': '320.8000', '2. high': '324.4200', '3. low': '319.8035', '4. close': '320.4000', '5. volume': '20698864'}, '2023-08-15': {'1. open': '323.0000', '2. high': '325.0900', '3. low': '320.9034', '4. close': '321.8600', '5. volume': '16966285'}, '2023-08-14': {'1. open': '321.3900', '2. high': '324.0600', '3. low': '320.0800', '4. close': '324.0400', '5. volume': '18836139'}, '2023-08-11': {'1. open': '320.2600', '2. high': '322.4100', '3. low': '319.2100', '4. close': '321.0100', '5. volume': '24355491'}, '2023-08-10': {'1. open': '326.0150', '2. high': '328.2600', '3. low': '321.1800', '4. close': '322.9300', '5. volume': '20113725'}, '2023-08-09': {'1. open': '326.4700', '2. high': '327.1100', '3. low': '321.0499', '4. close': '322.2300', '5. volume': '22373268'}, '2023-08-08': {'1. open': '326.9600', '2. high': '328.7500', '3. low': '323.0000', '4. close': '326.0500', '5. volume': '22327574'}, '2023-08-07': {'1. open': '328.3700', '2. high': '331.1100', '3. low': '327.5200', '4. close': '330.1100', '5. volume': '17741526'}, '2023-08-04': {'1. open': '331.8800', '2. high': '335.1400', '3. low': '327.2400', '4. close': '327.7800', '5. volume': '23741484'}, '2023-08-03': {'1. open': '326.0000', '2. high': '329.8800', '3. low': '325.9500', '4. close': '326.6600', '5. volume': '18360352'}, '2023-08-02': {'1. open': '333.6300', '2. high': '333.6300', '3. low': '326.3551', '4. close': '327.5000', '5. volume': '27761257'}, '2023-08-01': {'1. open': '335.1900', '2. high': '338.5400', '3. low': '333.7000', '4. close': '336.3400', '5. volume': '18381253'}, '2023-07-31': {'1. open': '336.9200', '2. high': '337.6950', '3. low': '333.3600', '4. close': '335.9200', '5. volume': '25446022'}, '2023-07-28': {'1. open': '333.6700', '2. high': '340.0100', '3. low': '333.1700', '4. close': '338.3700', '5. volume': '28484868'}, '2023-07-27': {'1. open': '340.4800', '2. high': '341.3300', '3. low': '329.0500', '4. close': '330.7200', '5. volume': '39635262'}, '2023-07-26': {'1. open': '341.4400', '2. high': '344.6700', '3. low': '333.1100', '4. close': '337.7700', '5. volume': '58383702'}, '2023-07-25': {'1. open': '347.1100', '2. high': '351.8900', '3. low': '345.0700', '4. close': '350.9800', '5. volume': '41637739'}, '2023-07-24': {'1. open': '345.8500', '2. high': '346.9200', '3. low': '342.3100', '4. close': '345.1100', '5. volume': '26719207'}, '2023-07-21': {'1. open': '349.1500', '2. high': '350.3000', '3. low': '339.8300', '4. close': '343.7700', '5. volume': '69405382'}, '2023-07-20': {'1. open': '353.5700', '2. high': '357.9700', '3. low': '345.3700', '4. close': '346.8700', '5. volume': '33778395'}, '2023-07-19': {'1. open': '361.7500', '2. high': '362.4600', '3. low': '352.4350', '4. close': '355.0800', '5. volume': '39732901'}, '2023-07-18': {'1. open': '345.8300', '2. high': '366.7800', '3. low': '342.1700', '4. close': '359.4900', '5. volume': '64872705'}, '2023-07-17': {'1. open': '345.6780', '2. high': '346.9900', '3. low': '342.2000', '4. close': '345.7300', '5. volume': '20363927'}, '2023-07-14': {'1. open': '347.5900', '2. high': '351.4300', '3. low': '344.3100', '4. close': '345.2400', '5. volume': '28352729'}, '2023-07-13': {'1. open': '339.5600', '2. high': '343.7400', '3. low': '339.0200', '4. close': '342.6600', '5. volume': '20567159'}, '2023-07-12': {'1. open': '336.6000', '2. high': '341.6520', '3. low': '335.6700', '4. close': '337.2000', '5. volume': '29995262'}, '2023-07-11': {'1. open': '331.0600', '2. high': '332.8600', '3. low': '327.0000', '4. close': '332.4700', '5. volume': '26698218'}, '2023-07-10': {'1. open': '334.6000', '2. high': '335.2300', '3. low': '327.5900', '4. close': '331.8300', '5. volume': '32791449'}, '2023-07-07': {'1. open': '339.3200', '2. high': '341.7900', '3. low': '337.0000', '4. close': '337.2200', '5. volume': '21214824'}, '2023-07-06': {'1. open': '337.3000', '2. high': '342.9900', '3. low': '335.5000', '4. close': '341.2700', '5. volume': '28195534'}, '2023-07-05': {'1. open': '335.0900', '2. high': '341.6500', '3. low': '334.7276', '4. close': '338.1500', '5. volume': '18172378'}, '2023-07-03': {'1. open': '339.1900', '2. high': '340.9000', '3. low': '336.5710', '4. close': '337.9900', '5. volume': '12508692'}, '2023-06-30': {'1. open': '337.7500', '2. high': '342.7300', '3. low': '337.2000', '4. close': '340.5400', '5. volume': '26832756'}, '2023-06-29': {'1. open': '334.7100', '2. high': '336.1100', '3. low': '332.6200', '4. close': '335.0500', '5. volume': '16997042'}, '2023-06-28': {'1. open': '334.6600', '2. high': '337.9800', '3. low': '333.8100', '4. close': '335.8500', '5. volume': '20259523'}, '2023-06-27': {'1. open': '331.8600', '2. high': '336.1500', '3. low': '329.3000', '4. close': '334.5700', '5. volume': '24354110'}, '2023-06-26': {'1. open': '333.7200', '2. high': '336.1100', '3. low': '328.4900', '4. close': '328.6000', '5. volume': '21520582'}, '2023-06-23': {'1. open': '334.3600', '2. high': '337.9600', '3. low': '333.4500', '4. close': '335.0200', '5. volume': '23146901'}, '2023-06-22': {'1. open': '334.1200', '2. high': '340.1200', '3. low': '333.3400', '4. close': '339.7100', '5. volume': '23556764'}, '2023-06-21': {'1. open': '336.3700', '2. high': '337.7300', '3. low': '332.0700', '4. close': '333.5600', '5. volume': '25117799'}, '2023-06-20': {'1. open': '339.3100', '2. high': '342.0800', '3. low': '335.8600', '4. close': '338.0500', '5. volume': '26375407'}}}\n"
     ]
    }
   ],
   "source": [
    "params = {\n",
    "    \"function\": \"TIME_SERIES_DAILY\",\n",
    "    \"symbol\": STOCK,\n",
    "    \"apikey\": stockmarket_api_key,\n",
    "}\n",
    "\n",
    "url = \"https://www.alphavantage.co/query\"\n",
    "r = requests.get(url, params=params)\n",
    "print(r.json())\n",
    "\n",
    "time_series_daily = r.json()[\"Time Series (Daily)\"]"
   ]
  },
  {
   "cell_type": "markdown",
   "metadata": {},
   "source": [
    "Focus on the yesterday's and the day before yesterday's opening price of the ``STOCK``. Other Options are:\n",
    "- ``'1. open'``\n",
    "- ``'2. high'``\n",
    "- ``'3. low'``\n",
    "- ``'4. close'``\n",
    "- ``'5. volume'``"
   ]
  },
  {
   "cell_type": "code",
   "execution_count": 13,
   "metadata": {},
   "outputs": [],
   "source": [
    "closing_price_hist = [\n",
    "    value[\"4. close\"] for (_, value) in time_series_daily.items()\n",
    "]"
   ]
  },
  {
   "cell_type": "code",
   "execution_count": 14,
   "metadata": {},
   "outputs": [],
   "source": [
    "def detect_price_change(closing_price_hist):\n",
    "    \"\"\" Detects if there is a 5% change in the closing price of the stock in the last two days.\n",
    "        Returns True if there is a 5% change, else returns False.\"\"\"\n",
    "    yesterday_closing_price = float(closing_price_hist[0])\n",
    "    day_before_yesterday_closing_price = float(closing_price_hist[1])\n",
    "    difference = abs((yesterday_closing_price / day_before_yesterday_closing_price) - 1)\n",
    "    \n",
    "    return difference >= 0.05"
   ]
  },
  {
   "cell_type": "markdown",
   "metadata": {},
   "source": [
    "### Fetch Market news & sentiments from Alphavantage API\n",
    "\n",
    "This API returns live and historical market news & sentiment data from a large & growing selection of premier news outlets around the world, covering stocks, cryptocurrencies, forex, and a wide range of topics such as fiscal policy, mergers & acquisitions, IPOs, etc."
   ]
  },
  {
   "cell_type": "code",
   "execution_count": 15,
   "metadata": {},
   "outputs": [],
   "source": [
    "def fetch_news():\n",
    "    \"\"\" Gets the first 3 news articles for the stock from https://www.alphavantage.co/queryo.\"\"\"\n",
    "    params = {\n",
    "        \"function\": \"NEWS_SENTIMENT\",\n",
    "        \"tickers\": STOCK,\n",
    "        \"apikey\": stockmarket_api_key,\n",
    "    }   \n",
    "\n",
    "    url = \"https://www.alphavantage.co/queryo\"\n",
    "    r = requests.get(url, params=params)\n",
    "    news_data = r.json()\n",
    "    return news_data[\"feed\"][:3]"
   ]
  },
  {
   "cell_type": "markdown",
   "metadata": {},
   "source": [
    "### Fetch Data from NewsAPI\n",
    "\n",
    "NewsAPI is used to locate articles and breaking news headlines from news sources and blogs across the web with JSON API. The API is free to use and does not require any authentication. The API provides the data for the following fields: Source, Author, Title, Description, URL, URL to image, Published at, Content."
   ]
  },
  {
   "cell_type": "code",
   "execution_count": 16,
   "metadata": {},
   "outputs": [],
   "source": [
    "import datetime as dt\n",
    "\n",
    "now = dt.datetime.now()\n",
    "\n",
    "# Last 14 days\n",
    "last_14_days = now - dt.timedelta(days=14)\n",
    "\n",
    "params = {\n",
    "    \"apikey\": news_api_key,\n",
    "    \"q\": COMPANY_NAME,\n",
    "    \"from\": last_14_days,\n",
    "    \"to\": now,\n",
    "    \"language\": \"en\",\n",
    "    \"sortBy\": \"relevancy\", # \"popularity\" or \"relevancy\"\n",
    "}\n",
    "\n",
    "url = \"https://newsapi.org/v2/everything\"\n",
    "\n",
    "r  = requests.get(url, params=params)\n",
    "articles = r.json()[\"articles\"]"
   ]
  },
  {
   "cell_type": "code",
   "execution_count": 17,
   "metadata": {},
   "outputs": [],
   "source": [
    "def format_news(articles):\n",
    "    format_str = \"{title}\\n{url}\\n{description}\\n-------------------------\"\n",
    "    formatted_articles = [format_str.format(**article) for article in articles[:3]]\n",
    "    return \"\\n\".join(formatted_articles)"
   ]
  },
  {
   "cell_type": "markdown",
   "metadata": {},
   "source": [
    "### Conclusion\n",
    "\n",
    "The News from NewsAPI seem to provide a better result than the news from Alpha Vantage API in terms of relevancy. So for the final project task we will be using the news from NewsAPI."
   ]
  },
  {
   "cell_type": "code",
   "execution_count": 18,
   "metadata": {},
   "outputs": [
    {
     "name": "stdout",
     "output_type": "stream",
     "text": [
      "The Stock price of Microsoft Corp. has not changed by 5% in the last two days.\n"
     ]
    }
   ],
   "source": [
    "if detect_price_change(closing_price_hist):\n",
    "    print(f\"There is a 5% change in the closing price of {COMPANY_NAME} in the last two days. Fetching news articles...\\n\")\n",
    "    print(format_news(articles))\n",
    "else: \n",
    "    print(f\"The Stock price of {COMPANY_NAME} has not changed by 5% in the last two days.\")   "
   ]
  },
  {
   "cell_type": "markdown",
   "metadata": {},
   "source": [
    "### Ideas for Improvement\n",
    "\n",
    "- print {STOCK} 🔺/🔻 {rounded_percent_diff} based on the change in the stock price.\n",
    "- send SMS / Email "
   ]
  }
 ],
 "metadata": {
  "kernelspec": {
   "display_name": ".venv",
   "language": "python",
   "name": "python3"
  },
  "language_info": {
   "codemirror_mode": {
    "name": "ipython",
    "version": 3
   },
   "file_extension": ".py",
   "mimetype": "text/x-python",
   "name": "python",
   "nbconvert_exporter": "python",
   "pygments_lexer": "ipython3",
   "version": "3.11.6"
  }
 },
 "nbformat": 4,
 "nbformat_minor": 2
}
