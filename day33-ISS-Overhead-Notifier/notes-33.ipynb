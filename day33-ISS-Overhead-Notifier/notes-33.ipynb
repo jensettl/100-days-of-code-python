{
 "cells": [
  {
   "cell_type": "markdown",
   "metadata": {
    "slideshow": {
     "slide_type": "slide"
    }
   },
   "source": [
    "## Day 33 - API Endpoints & API Parameters - ISS Overhead Notfier"
   ]
  },
  {
   "cell_type": "markdown",
   "metadata": {},
   "source": [
    "### Day 33 Goals:\n",
    "\n",
    "1. Learn about APIs and how to use them.\n",
    "2. Learn about API Endpoints and API Parameters.\n",
    "3. Learn about API Authentication.\n",
    "4. Learn about API Keys."
   ]
  },
  {
   "cell_type": "markdown",
   "metadata": {},
   "source": [
    "### What are APIs?\n",
    "\n",
    "APIs are a way for computers to talk to each other. They are used to retrieve data from a database or to send data to a database. Use the rules (requirements) the API defines to make a request, and it will send a response.\n",
    "\n",
    "Examples of APIs:\n",
    "\n",
    "- Yahoo Weather API allows you to retrieve weather data.\n",
    "- Coinbase API allows you to buy and sell cryptocurrencies.\n",
    "\n",
    "### What is an API Endpoint?\n",
    "\n",
    "An API endpoint is a unique URL that represents an object. You can retrieve data about an object by sending a GET request to the endpoint.\n",
    "\n",
    "Examples:\n",
    "\n",
    "- `https://api.weather.yahoo.com/forecastrss?location=chicago`\n",
    "- `https://api.coinbase.com/v2/prices/BTC-USD/buy`\n",
    "\n",
    "### What are API Parameters?\n",
    "\n",
    "API parameters are options you can pass with the endpoint (URL) to specify what data you want to retrieve.\n",
    "\n",
    "Examples\n",
    "\n",
    "- `https://api.weather.yahoo.com/forecastrss?location=chicago&format=json`\n",
    "- `https://api.coinbase.com/v2/prices/BTC-USD/buy?currency=USD`\n",
    "\n",
    "### What is an API Key?\n",
    "\n",
    "An API key is a unique identifier that is used to authenticate requests associated with your project for usage and billing purposes.\n",
    "\n"
   ]
  },
  {
   "cell_type": "markdown",
   "metadata": {},
   "source": [
    "--- "
   ]
  },
  {
   "cell_type": "markdown",
   "metadata": {},
   "source": [
    "## Project 33 - ISS Overhead Notifier"
   ]
  },
  {
   "cell_type": "code",
   "execution_count": 7,
   "metadata": {},
   "outputs": [],
   "source": [
    "import requests"
   ]
  },
  {
   "cell_type": "code",
   "execution_count": 14,
   "metadata": {},
   "outputs": [
    {
     "name": "stdout",
     "output_type": "stream",
     "text": [
      "<Response [200]>\n",
      "200\n"
     ]
    }
   ],
   "source": [
    "# http://open-notify.org/Open-Notify-API/ISS-Location-Now/\n",
    "\n",
    "response = requests.get('http://api.open-notify.org/iss-now.json')\n",
    "print(response)\n",
    "print(response.status_code)"
   ]
  },
  {
   "cell_type": "markdown",
   "metadata": {},
   "source": [
    "Response Codes:\n",
    "- 200 - OK\n",
    "- 201 - Created\n",
    "- 400 - Bad Request\n",
    "- 401 - Unauthorized\n",
    "- 403 - Forbidden\n",
    "- 404 - Not Found\n",
    "- 500 - Internal Server Error"
   ]
  },
  {
   "cell_type": "code",
   "execution_count": 15,
   "metadata": {},
   "outputs": [],
   "source": [
    "# if response.status_code != 200:\n",
    "#     raise Exception(\"Bad Response from ISS API\")\n",
    "\n",
    "response.raise_for_status()"
   ]
  },
  {
   "cell_type": "code",
   "execution_count": 20,
   "metadata": {},
   "outputs": [
    {
     "name": "stdout",
     "output_type": "stream",
     "text": [
      "{'iss_position': {'latitude': '44.3187', 'longitude': '-116.6450'}, 'timestamp': 1698932994, 'message': 'success'}\n",
      "('44.3187', '-116.6450')\n"
     ]
    }
   ],
   "source": [
    "data = response.json()\n",
    "print(data)\n",
    "\n",
    "latitude = data['iss_position']['latitude']\n",
    "longitude = data['iss_position']['longitude']\n",
    "\n",
    "iss_position = (latitude, longitude)\n",
    "print(iss_position)"
   ]
  },
  {
   "cell_type": "code",
   "execution_count": null,
   "metadata": {},
   "outputs": [],
   "source": []
  }
 ],
 "metadata": {
  "kernelspec": {
   "display_name": ".venv",
   "language": "python",
   "name": "python3"
  },
  "language_info": {
   "codemirror_mode": {
    "name": "ipython",
    "version": 3
   },
   "file_extension": ".py",
   "mimetype": "text/x-python",
   "name": "python",
   "nbconvert_exporter": "python",
   "pygments_lexer": "ipython3",
   "version": "3.11.6"
  }
 },
 "nbformat": 4,
 "nbformat_minor": 2
}
