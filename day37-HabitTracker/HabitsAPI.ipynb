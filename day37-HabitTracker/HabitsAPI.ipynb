{
 "cells": [
  {
   "cell_type": "markdown",
   "metadata": {},
   "source": [
    "## HTTP Requests"
   ]
  },
  {
   "cell_type": "markdown",
   "metadata": {},
   "source": [
    "There are several ways to make HTTP requests in Python. The most popular one is the [requests](https://requests.readthedocs.io/en/master/) library. It is a third-party library, so you need to install it first. You can do it with `pip`:\n",
    "\n",
    "```bash\n",
    "pip install requests\n",
    "```\n",
    "\n",
    "Once you have it installed, you can import it and start using it:\n",
    "\n",
    "```python\n",
    "import requests\n",
    "```\n"
   ]
  },
  {
   "cell_type": "markdown",
   "metadata": {},
   "source": [
    "There are different Types of HTTP requests:\n",
    "- GET (retrieves data from the server)\n",
    "- POST (sends data to the server)\n",
    "- PUT (updates data on the server)\n",
    "- DELETE (deletes data from the server)"
   ]
  },
  {
   "cell_type": "markdown",
   "metadata": {},
   "source": [
    "### GET with requests\n",
    "\n",
    "The `requests` library has a `get` function that allows you to make a GET request to a server. The function returns a `Response` object that contains the response from the server. You can access the response status code with the `status_code` attribute:\n",
    "\n",
    "```python\n",
    "response = requests.get('https://api.github.com')\n",
    "print(response.status_code)\n",
    "```"
   ]
  },
  {
   "cell_type": "markdown",
   "metadata": {},
   "source": [
    "### POST with requests\n",
    "\n",
    "The `requests` library has a `post` function that allows you to make a POST request to a server. The function returns a `Response` object that contains the response from the server. You can access the response status code with the `status_code` attribute:\n",
    "\n",
    "```python\n",
    "response = requests.post('https://httpbin.org/post', data={'key':'value'})\n",
    "print(response.status_code)\n",
    "```\n"
   ]
  },
  {
   "cell_type": "markdown",
   "metadata": {},
   "source": [
    "### More\n",
    "\n",
    "- [Requests: HTTP for Humans](https://requests.readthedocs.io/en/master/)\n",
    "- [HTTP Methods](https://developer.mozilla.org/en-US/docs/Web/HTTP/Methods)\n",
    "- [HTTP Status Codes](https://developer.mozilla.org/en-US/docs/Web/HTTP/Status)\n",
    "- [HTTP Headers](https://developer.mozilla.org/en-US/docs/Web/HTTP/Headers)"
   ]
  },
  {
   "cell_type": "markdown",
   "metadata": {},
   "source": [
    "---"
   ]
  },
  {
   "cell_type": "markdown",
   "metadata": {},
   "source": [
    "## Project: Habit Tracker with Pixela"
   ]
  },
  {
   "cell_type": "code",
   "execution_count": 22,
   "metadata": {},
   "outputs": [],
   "source": [
    "import requests\n",
    "\n",
    "USER = \"jenshabits\"\n",
    "TOKEN = \"213nkgni9f3insaikfn32bz3i2n3\"\n",
    "GRAPH_ID = \"graph1\"\n",
    "pixela_endpoint = \"https://pixe.la/v1/users\"\n",
    "\n",
    "user_params = {\n",
    "    \"token\": TOKEN,\n",
    "    \"username\": USER,\n",
    "    \"agreeTermsOfService\": \"yes\",\n",
    "    \"notMinor\": \"yes\",\n",
    "}\n",
    "\n",
    "# Create user\n",
    "# response = requests.post(url=pixela_endpoint, json=user_params)\n",
    "# print(response.text)"
   ]
  },
  {
   "cell_type": "code",
   "execution_count": 23,
   "metadata": {},
   "outputs": [
    {
     "name": "stdout",
     "output_type": "stream",
     "text": [
      "{\"message\":\"This graphID already exist.\",\"isSuccess\":false}\n"
     ]
    }
   ],
   "source": [
    "# Create Graph\n",
    "graph_endpoint = f\"{pixela_endpoint}/{USER}/graphs\"\n",
    "\n",
    "graph_params = {\n",
    "    \"id\": \"graph1\",\n",
    "    \"name\": \"Language Graph\",\n",
    "    \"unit\": \"minutes\",\n",
    "    \"type\": \"int\",\n",
    "    \"color\": \"ajisai\",\n",
    "}\n",
    "\n",
    "response = requests.post(url=graph_endpoint, json=graph_params, headers={\"X-USER-TOKEN\": TOKEN})\n",
    "print(response.text)"
   ]
  },
  {
   "cell_type": "code",
   "execution_count": 25,
   "metadata": {},
   "outputs": [
    {
     "name": "stdout",
     "output_type": "stream",
     "text": [
      "20231109\n",
      "{\"message\":\"Success.\",\"isSuccess\":true}\n"
     ]
    }
   ],
   "source": [
    "# Post a pixel to the graph\n",
    "import datetime as dt\n",
    "\n",
    "today = dt.datetime.now()\n",
    "formatted_today = today.strftime(\"%Y%m%d\") # YYYYMMDD\n",
    "\n",
    "pixel_endpoint = f\"{pixela_endpoint}/{USER}/graphs/{GRAPH_ID}\"\n",
    "\n",
    "pixel_params = {\n",
    "    \"date\": formatted_today,\n",
    "    \"quantity\": \"30\",\n",
    "}\n",
    "\n",
    "headers = {\n",
    "    \"X-USER-TOKEN\": TOKEN,\n",
    "}\n",
    "\n",
    "response = requests.post(url=pixel_endpoint, json=pixel_params, headers=headers)\n",
    "print(response.text)"
   ]
  },
  {
   "cell_type": "markdown",
   "metadata": {},
   "source": [
    "### More API Endpoints with Pixela\n",
    "\n",
    "[API Documentation](https://docs.pixe.la/)"
   ]
  },
  {
   "cell_type": "code",
   "execution_count": 33,
   "metadata": {},
   "outputs": [],
   "source": [
    "# Get the graph in SVG format diagram\n",
    "from PIL import Image\n",
    "import io\n",
    "\n",
    "graph_endpoint = f\"{pixela_endpoint}/{USER}/graphs/{GRAPH_ID}\"\n",
    "\n",
    "query_params = {\n",
    "    \"mode\" : \"short\",\n",
    "}\n",
    "\n",
    "response = requests.get(url=graph_endpoint, headers=headers, params=query_params)\n",
    "svg = response.text\n",
    "\n",
    "# Save the SVG to a file\n",
    "with open(\"graph.svg\", \"w\") as f:\n",
    "    f.write(svg)\n"
   ]
  },
  {
   "cell_type": "code",
   "execution_count": 35,
   "metadata": {},
   "outputs": [
    {
     "name": "stdout",
     "output_type": "stream",
     "text": [
      "{\"message\":\"Success.\",\"isSuccess\":true}\n"
     ]
    }
   ],
   "source": [
    "# Update a Pixel (PUT)\n",
    "\n",
    "pixel_endpoint = f\"{pixela_endpoint}/{USER}/graphs/{GRAPH_ID}/{formatted_today}\"\n",
    "\n",
    "query_params = {\n",
    "    \"quantity\" : \"50\",\n",
    "}\n",
    "\n",
    "headers = {\n",
    "    \"X-USER-TOKEN\": TOKEN,\n",
    "}\n",
    "\n",
    "response = requests.put(url=pixel_endpoint, json=query_params, headers=headers)\n",
    "print(response.text)"
   ]
  },
  {
   "cell_type": "code",
   "execution_count": 36,
   "metadata": {},
   "outputs": [
    {
     "name": "stdout",
     "output_type": "stream",
     "text": [
      "{\"message\":\"Success.\",\"isSuccess\":true}\n"
     ]
    }
   ],
   "source": [
    "# Delete a Pixel (DELETE)\n",
    "\n",
    "pixel_endpoint = f\"{pixela_endpoint}/{USER}/graphs/{GRAPH_ID}/{formatted_today}\"\n",
    "\n",
    "headers = {\n",
    "    \"X-USER-TOKEN\": TOKEN,\n",
    "}\n",
    "\n",
    "response = requests.delete(url=pixel_endpoint, headers=headers)\n",
    "print(response.text)"
   ]
  }
 ],
 "metadata": {
  "kernelspec": {
   "display_name": ".venv",
   "language": "python",
   "name": "python3"
  },
  "language_info": {
   "codemirror_mode": {
    "name": "ipython",
    "version": 3
   },
   "file_extension": ".py",
   "mimetype": "text/x-python",
   "name": "python",
   "nbconvert_exporter": "python",
   "pygments_lexer": "ipython3",
   "version": "3.11.6"
  }
 },
 "nbformat": 4,
 "nbformat_minor": 2
}
